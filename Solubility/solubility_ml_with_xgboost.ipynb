{
  "nbformat": 4,
  "nbformat_minor": 0,
  "metadata": {
    "kernelspec": {
      "name": "python3",
      "display_name": "Python 3.7.7 64-bit ('proj_env')",
      "metadata": {
        "interpreter": {
          "hash": "7c60b6fc9aa2a66f6350eb1db0aeb4891e90b74a7fe356963e93b321366276ff"
        }
      }
    },
    "language_info": {
      "codemirror_mode": {
        "name": "ipython",
        "version": 3
      },
      "file_extension": ".py",
      "mimetype": "text/x-python",
      "name": "python",
      "nbconvert_exporter": "python",
      "pygments_lexer": "ipython3",
      "version": "3.7.7-final"
    },
    "colab": {
      "name": "solubility_ml.ipynb",
      "provenance": []
    }
  },
  "cells": [
    {
      "source": [
        "Importing the required Libraries\n",
        "--------------------------------\n",
        "\n",
        "Make Sure to first create your own virtual environment and install all the libraries from the requirements.txt file\n",
        "\n",
        "`pip install -r requirements.txt`"
      ],
      "cell_type": "markdown",
      "metadata": {}
    },
    {
      "cell_type": "code",
      "metadata": {
        "id": "tfIlUBxBH3fP"
      },
      "source": [
        "import pandas as pd  \n",
        "import numpy as np  \n",
        "import matplotlib.pyplot as plt  \n",
        "from sklearn.model_selection import train_test_split \n",
        "import xgboost as xgb\n",
        "import os\n",
        "from sklearn.model_selection import GridSearchCV\n",
        "from sklearn.linear_model import LinearRegression\n",
        "from sklearn import metrics\n",
        "from sklearn.metrics import explained_variance_score\n",
        "from keras.callbacks import ModelCheckpoint\n",
        "from keras.models import Sequential\n",
        "from keras.layers import Dense, Activation, Flatten\n",
        "from ann_visualizer.visualize import ann_viz\n",
        "import keras.utils.vis_utils\n",
        "import warnings\n",
        "warnings.filterwarnings('ignore')\n",
        "warnings.filterwarnings('ignore', category=DeprecationWarning)\n",
        "%matplotlib inline"
      ],
      "execution_count": 20,
      "outputs": []
    },
    {
      "source": [
        "Set your working directory\n",
        "--------------------------\n"
      ],
      "cell_type": "markdown",
      "metadata": {}
    },
    {
      "cell_type": "code",
      "metadata": {
        "id": "k8VatWY3IPpR"
      },
      "source": [
        "os.chdir('D:\\Documents-Storage\\GitHub\\ML_Liquid\\Solubility')"
      ],
      "execution_count": 21,
      "outputs": []
    },
    {
      "source": [
        "Load the dataset\n",
        "----------------\n",
        "\n",
        "Everything should be in your working directory. If it throws an error, check your directory setting"
      ],
      "cell_type": "markdown",
      "metadata": {}
    },
    {
      "cell_type": "code",
      "metadata": {
        "id": "TFlfXC-jH3fS"
      },
      "source": [
        "# read data frame overall\n",
        "df = pd.read_csv(\"aqsol.csv\")"
      ],
      "execution_count": 22,
      "outputs": []
    },
    {
      "source": [
        "Display the first 5 rows\n",
        "------------------------"
      ],
      "cell_type": "markdown",
      "metadata": {}
    },
    {
      "cell_type": "code",
      "metadata": {
        "id": "7w5r3PIFH3fU",
        "outputId": "f4fe618f-e8ce-4458-a249-e85d8dce249c",
        "colab": {
          "base_uri": "https://localhost:8080/",
          "height": 301
        }
      },
      "source": [
        "# df.columns\n",
        "df.head()"
      ],
      "execution_count": 23,
      "outputs": [
        {
          "output_type": "execute_result",
          "data": {
            "text/plain": [
              "    ID                                               Name  \\\n",
              "0  A-3         N,N,N-trimethyloctadecan-1-aminium bromide   \n",
              "1  A-4                           Benzo[cd]indol-2(1H)-one   \n",
              "2  A-5                               4-chlorobenzaldehyde   \n",
              "3  A-8  zinc bis[2-hydroxy-3,5-bis(1-phenylethyl)benzo...   \n",
              "4  A-9  4-({4-[bis(oxiran-2-ylmethyl)amino]phenyl}meth...   \n",
              "\n",
              "                                               InChI  \\\n",
              "0  InChI=1S/C21H46N.BrH/c1-5-6-7-8-9-10-11-12-13-...   \n",
              "1  InChI=1S/C11H7NO/c13-11-8-5-1-3-7-4-2-6-9(12-1...   \n",
              "2        InChI=1S/C7H5ClO/c8-7-3-1-6(5-9)2-4-7/h1-5H   \n",
              "3  InChI=1S/2C23H22O3.Zn/c2*1-15(17-9-5-3-6-10-17...   \n",
              "4  InChI=1S/C25H30N2O4/c1-5-20(26(10-22-14-28-22)...   \n",
              "\n",
              "                      InChIKey  \\\n",
              "0  SZEMGTQCPRNXEG-UHFFFAOYSA-M   \n",
              "1  GPYLCFQEKPUWLD-UHFFFAOYSA-N   \n",
              "2  AVPYQKSLYISFPO-UHFFFAOYSA-N   \n",
              "3  XTUPUYCJWKHGSW-UHFFFAOYSA-L   \n",
              "4  FAUAZXVRLVIARB-UHFFFAOYSA-N   \n",
              "\n",
              "                                              SMILES  Solubility   SD  \\\n",
              "0                [Br-].CCCCCCCCCCCCCCCCCC[N+](C)(C)C   -3.616127  0.0   \n",
              "1                               O=C1Nc2cccc3cccc1c23   -3.254767  0.0   \n",
              "2                                    Clc1ccc(C=O)cc1   -2.177078  0.0   \n",
              "3  [Zn++].CC(c1ccccc1)c2cc(C(C)c3ccccc3)c(O)c(c2)...   -3.924409  0.0   \n",
              "4  C1OC1CN(CC2CO2)c3ccc(Cc4ccc(cc4)N(CC5CO5)CC6CO...   -4.662065  0.0   \n",
              "\n",
              "   Ocurrences Group    MolWt  ...  NumRotatableBonds  NumValenceElectrons  \\\n",
              "0           1    G1  392.510  ...               17.0                142.0   \n",
              "1           1    G1  169.183  ...                0.0                 62.0   \n",
              "2           1    G1  140.569  ...                1.0                 46.0   \n",
              "3           1    G1  756.226  ...               10.0                264.0   \n",
              "4           1    G1  422.525  ...               12.0                164.0   \n",
              "\n",
              "   NumAromaticRings  NumSaturatedRings  NumAliphaticRings  RingCount    TPSA  \\\n",
              "0               0.0                0.0                0.0        0.0    0.00   \n",
              "1               2.0                0.0                1.0        3.0   29.10   \n",
              "2               1.0                0.0                0.0        1.0   17.07   \n",
              "3               6.0                0.0                0.0        6.0  120.72   \n",
              "4               2.0                4.0                4.0        6.0   56.60   \n",
              "\n",
              "    LabuteASA      BalabanJ      BertzCT  \n",
              "0  158.520601  0.000000e+00   210.377334  \n",
              "1   75.183563  2.582996e+00   511.229248  \n",
              "2   58.261134  3.009782e+00   202.661065  \n",
              "3  323.755434  2.322963e-07  1964.648666  \n",
              "4  183.183268  1.084427e+00   769.899934  \n",
              "\n",
              "[5 rows x 26 columns]"
            ],
            "text/html": "<div>\n<style scoped>\n    .dataframe tbody tr th:only-of-type {\n        vertical-align: middle;\n    }\n\n    .dataframe tbody tr th {\n        vertical-align: top;\n    }\n\n    .dataframe thead th {\n        text-align: right;\n    }\n</style>\n<table border=\"1\" class=\"dataframe\">\n  <thead>\n    <tr style=\"text-align: right;\">\n      <th></th>\n      <th>ID</th>\n      <th>Name</th>\n      <th>InChI</th>\n      <th>InChIKey</th>\n      <th>SMILES</th>\n      <th>Solubility</th>\n      <th>SD</th>\n      <th>Ocurrences</th>\n      <th>Group</th>\n      <th>MolWt</th>\n      <th>...</th>\n      <th>NumRotatableBonds</th>\n      <th>NumValenceElectrons</th>\n      <th>NumAromaticRings</th>\n      <th>NumSaturatedRings</th>\n      <th>NumAliphaticRings</th>\n      <th>RingCount</th>\n      <th>TPSA</th>\n      <th>LabuteASA</th>\n      <th>BalabanJ</th>\n      <th>BertzCT</th>\n    </tr>\n  </thead>\n  <tbody>\n    <tr>\n      <th>0</th>\n      <td>A-3</td>\n      <td>N,N,N-trimethyloctadecan-1-aminium bromide</td>\n      <td>InChI=1S/C21H46N.BrH/c1-5-6-7-8-9-10-11-12-13-...</td>\n      <td>SZEMGTQCPRNXEG-UHFFFAOYSA-M</td>\n      <td>[Br-].CCCCCCCCCCCCCCCCCC[N+](C)(C)C</td>\n      <td>-3.616127</td>\n      <td>0.0</td>\n      <td>1</td>\n      <td>G1</td>\n      <td>392.510</td>\n      <td>...</td>\n      <td>17.0</td>\n      <td>142.0</td>\n      <td>0.0</td>\n      <td>0.0</td>\n      <td>0.0</td>\n      <td>0.0</td>\n      <td>0.00</td>\n      <td>158.520601</td>\n      <td>0.000000e+00</td>\n      <td>210.377334</td>\n    </tr>\n    <tr>\n      <th>1</th>\n      <td>A-4</td>\n      <td>Benzo[cd]indol-2(1H)-one</td>\n      <td>InChI=1S/C11H7NO/c13-11-8-5-1-3-7-4-2-6-9(12-1...</td>\n      <td>GPYLCFQEKPUWLD-UHFFFAOYSA-N</td>\n      <td>O=C1Nc2cccc3cccc1c23</td>\n      <td>-3.254767</td>\n      <td>0.0</td>\n      <td>1</td>\n      <td>G1</td>\n      <td>169.183</td>\n      <td>...</td>\n      <td>0.0</td>\n      <td>62.0</td>\n      <td>2.0</td>\n      <td>0.0</td>\n      <td>1.0</td>\n      <td>3.0</td>\n      <td>29.10</td>\n      <td>75.183563</td>\n      <td>2.582996e+00</td>\n      <td>511.229248</td>\n    </tr>\n    <tr>\n      <th>2</th>\n      <td>A-5</td>\n      <td>4-chlorobenzaldehyde</td>\n      <td>InChI=1S/C7H5ClO/c8-7-3-1-6(5-9)2-4-7/h1-5H</td>\n      <td>AVPYQKSLYISFPO-UHFFFAOYSA-N</td>\n      <td>Clc1ccc(C=O)cc1</td>\n      <td>-2.177078</td>\n      <td>0.0</td>\n      <td>1</td>\n      <td>G1</td>\n      <td>140.569</td>\n      <td>...</td>\n      <td>1.0</td>\n      <td>46.0</td>\n      <td>1.0</td>\n      <td>0.0</td>\n      <td>0.0</td>\n      <td>1.0</td>\n      <td>17.07</td>\n      <td>58.261134</td>\n      <td>3.009782e+00</td>\n      <td>202.661065</td>\n    </tr>\n    <tr>\n      <th>3</th>\n      <td>A-8</td>\n      <td>zinc bis[2-hydroxy-3,5-bis(1-phenylethyl)benzo...</td>\n      <td>InChI=1S/2C23H22O3.Zn/c2*1-15(17-9-5-3-6-10-17...</td>\n      <td>XTUPUYCJWKHGSW-UHFFFAOYSA-L</td>\n      <td>[Zn++].CC(c1ccccc1)c2cc(C(C)c3ccccc3)c(O)c(c2)...</td>\n      <td>-3.924409</td>\n      <td>0.0</td>\n      <td>1</td>\n      <td>G1</td>\n      <td>756.226</td>\n      <td>...</td>\n      <td>10.0</td>\n      <td>264.0</td>\n      <td>6.0</td>\n      <td>0.0</td>\n      <td>0.0</td>\n      <td>6.0</td>\n      <td>120.72</td>\n      <td>323.755434</td>\n      <td>2.322963e-07</td>\n      <td>1964.648666</td>\n    </tr>\n    <tr>\n      <th>4</th>\n      <td>A-9</td>\n      <td>4-({4-[bis(oxiran-2-ylmethyl)amino]phenyl}meth...</td>\n      <td>InChI=1S/C25H30N2O4/c1-5-20(26(10-22-14-28-22)...</td>\n      <td>FAUAZXVRLVIARB-UHFFFAOYSA-N</td>\n      <td>C1OC1CN(CC2CO2)c3ccc(Cc4ccc(cc4)N(CC5CO5)CC6CO...</td>\n      <td>-4.662065</td>\n      <td>0.0</td>\n      <td>1</td>\n      <td>G1</td>\n      <td>422.525</td>\n      <td>...</td>\n      <td>12.0</td>\n      <td>164.0</td>\n      <td>2.0</td>\n      <td>4.0</td>\n      <td>4.0</td>\n      <td>6.0</td>\n      <td>56.60</td>\n      <td>183.183268</td>\n      <td>1.084427e+00</td>\n      <td>769.899934</td>\n    </tr>\n  </tbody>\n</table>\n<p>5 rows × 26 columns</p>\n</div>"
          },
          "metadata": {},
          "execution_count": 23
        }
      ]
    },
    {
      "source": [
        "Select the favourable parameters\n",
        "--------------------------------\n",
        "\n",
        "The Best Parameters are selected on the basis of Phik Correlation to give the highest accuracy"
      ],
      "cell_type": "markdown",
      "metadata": {}
    },
    {
      "cell_type": "code",
      "metadata": {
        "id": "UyZRWimSH3fW"
      },
      "source": [
        "# X - NumHAcceptors, NumHDonors, NumAromaticRings, NumSaturatedRings, NumAliphaticRings, MolMR\n",
        "# Y - Solubility \n",
        "# Merged dataframe to provide pair plot \n",
        "\n",
        "X = df.loc[:, ['MolMR','NumHAcceptors', 'NumHDonors', 'NumAromaticRings', 'NumSaturatedRings', 'NumAliphaticRings','HeavyAtomCount','MolLogP','BalabanJ']]\n",
        "Y = df.loc[:, ['Solubility']]\n",
        "merge = df.loc[:, ['MolMR','MolLogP','BalabanJ','NumHAcceptors', 'NumHDonors', 'NumAromaticRings', 'NumSaturatedRings', 'NumAliphaticRings','HeavyAtomCount','Solubility']]"
      ],
      "execution_count": 24,
      "outputs": []
    },
    {
      "source": [
        "Split the new dataset into test and train batches\n",
        "-------------------------------------------------\n",
        "\n",
        "This ensures repeatability between the various models used"
      ],
      "cell_type": "markdown",
      "metadata": {}
    },
    {
      "cell_type": "code",
      "metadata": {
        "id": "u-ubXleuH3fb",
        "outputId": "855d3b09-c5ef-4e26-817f-66d10f8a4904",
        "colab": {
          "base_uri": "https://localhost:8080/",
          "height": 34
        }
      },
      "source": [
        "X_train, X_test, Y_train, Y_test = train_test_split(X, Y, test_size = 0.25, random_state = 0)"
      ],
      "execution_count": 25,
      "outputs": []
    },
    {
      "source": [
        "1) Linear Regression:\n",
        "---------------------\n",
        "\n",
        "- A basic regressive model. It doesnt not perform well on large and complex datasets but is overall a decent model for beginners\n",
        "- We score the trained model on itself\n"
      ],
      "cell_type": "markdown",
      "metadata": {}
    },
    {
      "cell_type": "code",
      "execution_count": 46,
      "metadata": {},
      "outputs": [
        {
          "output_type": "stream",
          "name": "stdout",
          "text": [
            "45.528518523060434 %\n"
          ]
        }
      ],
      "source": [
        "regressor = LinearRegression()\n",
        "\n",
        "reg = regressor.fit(X_train, Y_train)\n",
        "\n",
        "print(reg.score (X_train, Y_train) * 100, '%')"
      ]
    },
    {
      "source": [
        "2) XGBoost Regressor:\n",
        "---------------------\n",
        "\n",
        "- XGBoost is an optimized distributed gradient boosting library designed to be highly efficient, flexible and portable. It implements machine learning algorithms under the Gradient Boosting framework.\n",
        "- We use the Regressor variant as we aim at predicting the Aqueous solubility of the compounds\n",
        "- To find the best parameters for the model, we use Grid Search. This essentially take in a grid of parameters and trains the model on each and every one of them.\n",
        "- We compare the accuracy of every set and get the best possible parameters.\n"
      ],
      "cell_type": "markdown",
      "metadata": {}
    },
    {
      "cell_type": "code",
      "metadata": {
        "id": "ub21PVg3JVLq",
        "outputId": "ae5fbc71-8789-4f22-cbee-8adf4bf83e0b",
        "colab": {
          "base_uri": "https://localhost:8080/",
          "height": 123
        }
      },
      "source": [
        "xgb = xgb.XGBRegressor()\n",
        "\n",
        "parameters = {'nthread':[4],\n",
        "              'objective':['reg:linear'],\n",
        "              'learning_rate': [0.005, 0.01, 0.03, 0.05, .07],\n",
        "              'max_depth': [5, 6, 7],\n",
        "              'min_child_weight': [3, 4, 5],\n",
        "              'silent': [1],\n",
        "              'subsample': [0.7],\n",
        "              'colsample_bytree': [0.7, 0.9, 1.0],\n",
        "              'n_estimators': [500]}\n",
        "\n",
        "xgb_grid = GridSearchCV(xgb,\n",
        "                        parameters,\n",
        "                        cv = 2,\n",
        "                        n_jobs = -1,\n",
        "                        verbose=True)\n",
        "xgb_grid.fit(X_train, Y_train)\n",
        "\n",
        "print('XGBoost Regressor Score is {}'.format(xgb_grid.score(X_train, Y_train)))"
      ],
      "execution_count": 27,
      "outputs": [
        {
          "output_type": "stream",
          "name": "stdout",
          "text": [
            "Fitting 2 folds for each of 135 candidates, totalling 270 fits\n",
            "[Parallel(n_jobs=-1)]: Using backend LokyBackend with 12 concurrent workers.\n",
            "[Parallel(n_jobs=-1)]: Done  26 tasks      | elapsed:   17.4s\n",
            "[Parallel(n_jobs=-1)]: Done 176 tasks      | elapsed:  1.5min\n",
            "[Parallel(n_jobs=-1)]: Done 270 out of 270 | elapsed:  2.4min finished\n",
            "[18:30:44] WARNING: C:/Users/Administrator/workspace/xgboost-win64_release_1.3.0/src/objective/regression_obj.cu:170: reg:linear is now deprecated in favor of reg:squarederror.\n",
            "[18:30:44] WARNING: C:/Users/Administrator/workspace/xgboost-win64_release_1.3.0/src/learner.cc:541: \n",
            "Parameters: { silent } might not be used.\n",
            "\n",
            "  This may not be accurate due to some parameters are only used in language bindings but\n",
            "  passed down to XGBoost core.  Or some parameters are not used but slip through this\n",
            "  verification. Please open an issue if you find above cases.\n",
            "\n",
            "\n",
            "XGBoost Regressor Score is 0.8357426529504035\n"
          ]
        }
      ]
    },
    {
      "source": [
        "Getting the Best Parameters\n",
        "---------------------------\n",
        "\n",
        "- This is for us to visualize. "
      ],
      "cell_type": "markdown",
      "metadata": {}
    },
    {
      "cell_type": "code",
      "metadata": {
        "id": "H_uEuvy7OpN4",
        "outputId": "754c614e-f49a-4aac-951c-b95288eee3c9",
        "colab": {
          "base_uri": "https://localhost:8080/",
          "height": 176
        }
      },
      "source": [
        "xgb_grid.best_params_"
      ],
      "execution_count": 28,
      "outputs": [
        {
          "output_type": "execute_result",
          "data": {
            "text/plain": [
              "{'colsample_bytree': 0.7,\n",
              " 'learning_rate': 0.01,\n",
              " 'max_depth': 7,\n",
              " 'min_child_weight': 4,\n",
              " 'n_estimators': 500,\n",
              " 'nthread': 4,\n",
              " 'objective': 'reg:linear',\n",
              " 'silent': 1,\n",
              " 'subsample': 0.7}"
            ]
          },
          "metadata": {},
          "execution_count": 28
        }
      ]
    },
    {
      "source": [
        "3) Neural Network Model:\n",
        "------------------------\n",
        "\n",
        "- Now we enter into Deep Learning Techiniques.\n",
        "- The Neural Network models tries to simulate the working of the human brain and produce models accordingly.\n",
        "- It consists of Neurons whose connections are based on weights and biases.\n",
        "- Its is very flexible and popularly used for Classification, Image Recognition, etc..\n",
        "- We are using it for linear type output."
      ],
      "cell_type": "markdown",
      "metadata": {}
    },
    {
      "cell_type": "code",
      "execution_count": 29,
      "metadata": {},
      "outputs": [
        {
          "output_type": "stream",
          "name": "stdout",
          "text": [
            "Model: \"sequential_1\"\n_________________________________________________________________\nLayer (type)                 Output Shape              Param #   \n=================================================================\ndense_5 (Dense)              (None, 128)               1280      \n_________________________________________________________________\ndense_6 (Dense)              (None, 256)               33024     \n_________________________________________________________________\ndense_7 (Dense)              (None, 256)               65792     \n_________________________________________________________________\ndense_8 (Dense)              (None, 256)               65792     \n_________________________________________________________________\ndense_9 (Dense)              (None, 1)                 257       \n=================================================================\nTotal params: 166,145\nTrainable params: 166,145\nNon-trainable params: 0\n_________________________________________________________________\n"
          ]
        }
      ],
      "source": [
        "NN_model = Sequential()\n",
        "\n",
        "# The Input Layer :\n",
        "NN_model.add(Dense(128, kernel_initializer='normal',input_dim = X_train.shape[1], activation='relu'))\n",
        "\n",
        "# The Hidden Layers :\n",
        "NN_model.add(Dense(256, kernel_initializer='normal',activation='relu'))\n",
        "NN_model.add(Dense(256, kernel_initializer='normal',activation='relu'))\n",
        "NN_model.add(Dense(256, kernel_initializer='normal',activation='relu'))\n",
        "\n",
        "# The Output Layer :\n",
        "NN_model.add(Dense(1, kernel_initializer='normal',activation='linear'))\n",
        "\n",
        "# Compile the network :\n",
        "NN_model.compile(loss='mean_absolute_error', optimizer='adam', metrics=['mean_absolute_error'])\n",
        "NN_model.summary()"
      ]
    },
    {
      "source": [
        "Different Visualizations of the Neural Network Model\n",
        "----------------------------------------------------\n",
        "\n",
        "- First, we use the basic `plot_model` from `keras` to visualize the different layers of our model.\n",
        "- Although this is not very fancy to look at, it gives us a basic understand of our model."
      ],
      "cell_type": "markdown",
      "metadata": {}
    },
    {
      "cell_type": "code",
      "execution_count": 30,
      "metadata": {},
      "outputs": [
        {
          "output_type": "execute_result",
          "data": {
            "image/png": "[encoded data removed]",
            "text/plain": [
              "<IPython.core.display.Image object>"
            ]
          },
          "metadata": {},
          "execution_count": 30
        }
      ],
      "source": [
        "keras.utils.vis_utils.plot_model(NN_model, to_file='model_plot.png', show_shapes=True, show_layer_names=True)"
      ]
    },
    {
      "source": [
        "Third Party library for better visualization of the model\n",
        "---------------------------------------------------------\n",
        "\n",
        "- We are using an open source library called `ann_visualizer` which creates a better visualization of our model.\n",
        "- This library is amazing and produces incredible visualizations.\n",
        "- You can find it on GitHub at `https://github.com/RedaOps/ann-visualizer`"
      ],
      "cell_type": "markdown",
      "metadata": {}
    },
    {
      "cell_type": "code",
      "execution_count": 47,
      "metadata": {},
      "outputs": [],
      "source": [
        "ann_viz(NN_model, title=\"My first neural network\")"
      ]
    },
    {
      "source": [
        "Creating a Checkpoint\n",
        "---------------------\n",
        "\n",
        "- We create a checkpoint (basically like a game save) to access previous trains of the model."
      ],
      "cell_type": "markdown",
      "metadata": {}
    },
    {
      "cell_type": "code",
      "execution_count": 32,
      "metadata": {},
      "outputs": [],
      "source": [
        "checkpoint_name = 'model_checkpoints/Weights-{epoch:03d}--{val_loss:.5f}.hdf5'\n",
        "checkpoint = ModelCheckpoint(checkpoint_name, monitor='val_loss', verbose = 1, save_best_only = True, mode ='auto')\n",
        "callbacks_list = [checkpoint]"
      ]
    },
    {
      "source": [
        "Training the Neural Network Model:\n",
        "----------------------------------\n",
        "\n",
        "- This might take a while depending on your computer. "
      ],
      "cell_type": "markdown",
      "metadata": {}
    },
    {
      "cell_type": "code",
      "execution_count": 33,
      "metadata": {
        "tags": [
          "outputPrepend"
        ]
      },
      "outputs": [
        {
          "output_type": "stream",
          "name": "stdout",
          "text": [
            "lute_error: 0.8227\n",
            "\n",
            "Epoch 00409: val_loss did not improve from 0.79022\n",
            "Epoch 410/500\n",
            "234/234 [==============================] - 0s 1ms/step - loss: 0.4378 - mean_absolute_error: 0.4378 - val_loss: 0.8030 - val_mean_absolute_error: 0.8030\n",
            "\n",
            "Epoch 00410: val_loss did not improve from 0.79022\n",
            "Epoch 411/500\n",
            "234/234 [==============================] - 0s 1ms/step - loss: 0.4090 - mean_absolute_error: 0.4090 - val_loss: 0.8152 - val_mean_absolute_error: 0.8152\n",
            "\n",
            "Epoch 00411: val_loss did not improve from 0.79022\n",
            "Epoch 412/500\n",
            "234/234 [==============================] - 0s 1ms/step - loss: 0.4315 - mean_absolute_error: 0.4315 - val_loss: 0.8156 - val_mean_absolute_error: 0.8156\n",
            "\n",
            "Epoch 00412: val_loss did not improve from 0.79022\n",
            "Epoch 413/500\n",
            "234/234 [==============================] - 0s 1ms/step - loss: 0.4107 - mean_absolute_error: 0.4107 - val_loss: 0.7962 - val_mean_absolute_error: 0.7962\n",
            "\n",
            "Epoch 00413: val_loss did not improve from 0.79022\n",
            "Epoch 414/500\n",
            "234/234 [==============================] - 0s 1ms/step - loss: 0.4228 - mean_absolute_error: 0.4228 - val_loss: 0.8016 - val_mean_absolute_error: 0.8016\n",
            "\n",
            "Epoch 00414: val_loss did not improve from 0.79022\n",
            "Epoch 415/500\n",
            "234/234 [==============================] - 0s 1ms/step - loss: 0.4314 - mean_absolute_error: 0.4314 - val_loss: 0.8026 - val_mean_absolute_error: 0.8026\n",
            "\n",
            "Epoch 00415: val_loss did not improve from 0.79022\n",
            "Epoch 416/500\n",
            "234/234 [==============================] - 0s 1ms/step - loss: 0.4276 - mean_absolute_error: 0.4276 - val_loss: 0.8062 - val_mean_absolute_error: 0.8062\n",
            "\n",
            "Epoch 00416: val_loss did not improve from 0.79022\n",
            "Epoch 417/500\n",
            "234/234 [==============================] - 0s 1ms/step - loss: 0.4304 - mean_absolute_error: 0.4304 - val_loss: 0.8124 - val_mean_absolute_error: 0.8124\n",
            "\n",
            "Epoch 00417: val_loss did not improve from 0.79022\n",
            "Epoch 418/500\n",
            "234/234 [==============================] - 0s 1ms/step - loss: 0.4252 - mean_absolute_error: 0.4252 - val_loss: 0.8228 - val_mean_absolute_error: 0.8228\n",
            "\n",
            "Epoch 00418: val_loss did not improve from 0.79022\n",
            "Epoch 419/500\n",
            "234/234 [==============================] - 0s 1ms/step - loss: 0.4254 - mean_absolute_error: 0.4254 - val_loss: 0.8154 - val_mean_absolute_error: 0.8154\n",
            "\n",
            "Epoch 00419: val_loss did not improve from 0.79022\n",
            "Epoch 420/500\n",
            "234/234 [==============================] - 0s 1ms/step - loss: 0.4139 - mean_absolute_error: 0.4139 - val_loss: 0.8033 - val_mean_absolute_error: 0.8033\n",
            "\n",
            "Epoch 00420: val_loss did not improve from 0.79022\n",
            "Epoch 421/500\n",
            "234/234 [==============================] - 0s 1ms/step - loss: 0.4171 - mean_absolute_error: 0.4171 - val_loss: 0.8055 - val_mean_absolute_error: 0.8055\n",
            "\n",
            "Epoch 00421: val_loss did not improve from 0.79022\n",
            "Epoch 422/500\n",
            "234/234 [==============================] - 0s 1ms/step - loss: 0.4094 - mean_absolute_error: 0.4094 - val_loss: 0.8092 - val_mean_absolute_error: 0.8092\n",
            "\n",
            "Epoch 00422: val_loss did not improve from 0.79022\n",
            "Epoch 423/500\n",
            "234/234 [==============================] - 0s 1ms/step - loss: 0.4243 - mean_absolute_error: 0.4243 - val_loss: 0.8126 - val_mean_absolute_error: 0.8126\n",
            "\n",
            "Epoch 00423: val_loss did not improve from 0.79022\n",
            "Epoch 424/500\n",
            "234/234 [==============================] - 0s 1ms/step - loss: 0.4108 - mean_absolute_error: 0.4108 - val_loss: 0.7979 - val_mean_absolute_error: 0.7979\n",
            "\n",
            "Epoch 00424: val_loss did not improve from 0.79022\n",
            "Epoch 425/500\n",
            "234/234 [==============================] - 0s 1ms/step - loss: 0.4117 - mean_absolute_error: 0.4117 - val_loss: 0.8224 - val_mean_absolute_error: 0.8224\n",
            "\n",
            "Epoch 00425: val_loss did not improve from 0.79022\n",
            "Epoch 426/500\n",
            "234/234 [==============================] - 0s 1ms/step - loss: 0.4216 - mean_absolute_error: 0.4216 - val_loss: 0.8018 - val_mean_absolute_error: 0.8018\n",
            "\n",
            "Epoch 00426: val_loss did not improve from 0.79022\n",
            "Epoch 427/500\n",
            "234/234 [==============================] - 0s 1ms/step - loss: 0.4109 - mean_absolute_error: 0.4109 - val_loss: 0.8174 - val_mean_absolute_error: 0.8174\n",
            "\n",
            "Epoch 00427: val_loss did not improve from 0.79022\n",
            "Epoch 428/500\n",
            "234/234 [==============================] - 0s 1ms/step - loss: 0.4215 - mean_absolute_error: 0.4215 - val_loss: 0.7973 - val_mean_absolute_error: 0.7973\n",
            "\n",
            "Epoch 00428: val_loss did not improve from 0.79022\n",
            "Epoch 429/500\n",
            "234/234 [==============================] - 0s 1ms/step - loss: 0.4279 - mean_absolute_error: 0.4279 - val_loss: 0.8076 - val_mean_absolute_error: 0.8076\n",
            "\n",
            "Epoch 00429: val_loss did not improve from 0.79022\n",
            "Epoch 430/500\n",
            "234/234 [==============================] - 0s 1ms/step - loss: 0.4078 - mean_absolute_error: 0.4078 - val_loss: 0.8045 - val_mean_absolute_error: 0.8045\n",
            "\n",
            "Epoch 00430: val_loss did not improve from 0.79022\n",
            "Epoch 431/500\n",
            "234/234 [==============================] - 0s 1ms/step - loss: 0.4245 - mean_absolute_error: 0.4245 - val_loss: 0.8102 - val_mean_absolute_error: 0.8102\n",
            "\n",
            "Epoch 00431: val_loss did not improve from 0.79022\n",
            "Epoch 432/500\n",
            "234/234 [==============================] - 0s 1ms/step - loss: 0.4113 - mean_absolute_error: 0.4113 - val_loss: 0.8077 - val_mean_absolute_error: 0.8077\n",
            "\n",
            "Epoch 00432: val_loss did not improve from 0.79022\n",
            "Epoch 433/500\n",
            "234/234 [==============================] - 0s 1ms/step - loss: 0.4062 - mean_absolute_error: 0.4062 - val_loss: 0.8259 - val_mean_absolute_error: 0.8259\n",
            "\n",
            "Epoch 00433: val_loss did not improve from 0.79022\n",
            "Epoch 434/500\n",
            "234/234 [==============================] - 0s 1ms/step - loss: 0.4355 - mean_absolute_error: 0.4355 - val_loss: 0.8356 - val_mean_absolute_error: 0.8356\n",
            "\n",
            "Epoch 00434: val_loss did not improve from 0.79022\n",
            "Epoch 435/500\n",
            "234/234 [==============================] - 0s 1ms/step - loss: 0.4307 - mean_absolute_error: 0.4307 - val_loss: 0.8040 - val_mean_absolute_error: 0.8040\n",
            "\n",
            "Epoch 00435: val_loss did not improve from 0.79022\n",
            "Epoch 436/500\n",
            "234/234 [==============================] - 0s 1ms/step - loss: 0.4156 - mean_absolute_error: 0.4156 - val_loss: 0.8018 - val_mean_absolute_error: 0.8018\n",
            "\n",
            "Epoch 00436: val_loss did not improve from 0.79022\n",
            "Epoch 437/500\n",
            "234/234 [==============================] - 0s 1ms/step - loss: 0.4147 - mean_absolute_error: 0.4147 - val_loss: 0.7991 - val_mean_absolute_error: 0.7991\n",
            "\n",
            "Epoch 00437: val_loss did not improve from 0.79022\n",
            "Epoch 438/500\n",
            "234/234 [==============================] - 0s 1ms/step - loss: 0.4176 - mean_absolute_error: 0.4176 - val_loss: 0.7954 - val_mean_absolute_error: 0.7954\n",
            "\n",
            "Epoch 00438: val_loss did not improve from 0.79022\n",
            "Epoch 439/500\n",
            "234/234 [==============================] - 0s 1ms/step - loss: 0.4155 - mean_absolute_error: 0.4155 - val_loss: 0.8064 - val_mean_absolute_error: 0.8064\n",
            "\n",
            "Epoch 00439: val_loss did not improve from 0.79022\n",
            "Epoch 440/500\n",
            "234/234 [==============================] - 0s 1ms/step - loss: 0.4155 - mean_absolute_error: 0.4155 - val_loss: 0.8092 - val_mean_absolute_error: 0.8092\n",
            "\n",
            "Epoch 00440: val_loss did not improve from 0.79022\n",
            "Epoch 441/500\n",
            "234/234 [==============================] - 0s 1ms/step - loss: 0.4188 - mean_absolute_error: 0.4188 - val_loss: 0.8012 - val_mean_absolute_error: 0.8012\n",
            "\n",
            "Epoch 00441: val_loss did not improve from 0.79022\n",
            "Epoch 442/500\n",
            "234/234 [==============================] - 0s 1ms/step - loss: 0.4013 - mean_absolute_error: 0.4013 - val_loss: 0.8154 - val_mean_absolute_error: 0.8154\n",
            "\n",
            "Epoch 00442: val_loss did not improve from 0.79022\n",
            "Epoch 443/500\n",
            "234/234 [==============================] - 0s 1ms/step - loss: 0.4100 - mean_absolute_error: 0.4100 - val_loss: 0.8002 - val_mean_absolute_error: 0.8002\n",
            "\n",
            "Epoch 00443: val_loss did not improve from 0.79022\n",
            "Epoch 444/500\n",
            "234/234 [==============================] - 0s 1ms/step - loss: 0.4188 - mean_absolute_error: 0.4188 - val_loss: 0.8116 - val_mean_absolute_error: 0.8116\n",
            "\n",
            "Epoch 00444: val_loss did not improve from 0.79022\n",
            "Epoch 445/500\n",
            "234/234 [==============================] - 0s 1ms/step - loss: 0.4122 - mean_absolute_error: 0.4122 - val_loss: 0.8014 - val_mean_absolute_error: 0.8014\n",
            "\n",
            "Epoch 00445: val_loss did not improve from 0.79022\n",
            "Epoch 446/500\n",
            "234/234 [==============================] - 0s 1ms/step - loss: 0.3944 - mean_absolute_error: 0.3944 - val_loss: 0.8023 - val_mean_absolute_error: 0.8023\n",
            "\n",
            "Epoch 00446: val_loss did not improve from 0.79022\n",
            "Epoch 447/500\n",
            "234/234 [==============================] - 0s 1ms/step - loss: 0.4222 - mean_absolute_error: 0.4222 - val_loss: 0.8070 - val_mean_absolute_error: 0.8070\n",
            "\n",
            "Epoch 00447: val_loss did not improve from 0.79022\n",
            "Epoch 448/500\n",
            "234/234 [==============================] - 0s 1ms/step - loss: 0.4030 - mean_absolute_error: 0.4030 - val_loss: 0.7978 - val_mean_absolute_error: 0.7978\n",
            "\n",
            "Epoch 00448: val_loss did not improve from 0.79022\n",
            "Epoch 449/500\n",
            "234/234 [==============================] - 0s 1ms/step - loss: 0.4141 - mean_absolute_error: 0.4141 - val_loss: 0.8109 - val_mean_absolute_error: 0.8109\n",
            "\n",
            "Epoch 00449: val_loss did not improve from 0.79022\n",
            "Epoch 450/500\n",
            "234/234 [==============================] - 0s 1ms/step - loss: 0.4164 - mean_absolute_error: 0.4164 - val_loss: 0.8024 - val_mean_absolute_error: 0.8024\n",
            "\n",
            "Epoch 00450: val_loss did not improve from 0.79022\n",
            "Epoch 451/500\n",
            "234/234 [==============================] - 0s 1ms/step - loss: 0.4124 - mean_absolute_error: 0.4124 - val_loss: 0.8101 - val_mean_absolute_error: 0.8101\n",
            "\n",
            "Epoch 00451: val_loss did not improve from 0.79022\n",
            "Epoch 452/500\n",
            "234/234 [==============================] - 0s 1ms/step - loss: 0.4130 - mean_absolute_error: 0.4130 - val_loss: 0.8030 - val_mean_absolute_error: 0.8030\n",
            "\n",
            "Epoch 00452: val_loss did not improve from 0.79022\n",
            "Epoch 453/500\n",
            "234/234 [==============================] - 0s 1ms/step - loss: 0.4085 - mean_absolute_error: 0.4085 - val_loss: 0.8072 - val_mean_absolute_error: 0.8072\n",
            "\n",
            "Epoch 00453: val_loss did not improve from 0.79022\n",
            "Epoch 454/500\n",
            "234/234 [==============================] - 0s 1ms/step - loss: 0.4001 - mean_absolute_error: 0.4001 - val_loss: 0.8062 - val_mean_absolute_error: 0.8062\n",
            "\n",
            "Epoch 00454: val_loss did not improve from 0.79022\n",
            "Epoch 455/500\n",
            "234/234 [==============================] - 0s 1ms/step - loss: 0.4076 - mean_absolute_error: 0.4076 - val_loss: 0.8028 - val_mean_absolute_error: 0.8028\n",
            "\n",
            "Epoch 00455: val_loss did not improve from 0.79022\n",
            "Epoch 456/500\n",
            "234/234 [==============================] - 0s 1ms/step - loss: 0.3932 - mean_absolute_error: 0.3932 - val_loss: 0.8107 - val_mean_absolute_error: 0.8107\n",
            "\n",
            "Epoch 00456: val_loss did not improve from 0.79022\n",
            "Epoch 457/500\n",
            "234/234 [==============================] - 0s 1ms/step - loss: 0.4097 - mean_absolute_error: 0.4097 - val_loss: 0.8152 - val_mean_absolute_error: 0.8152\n",
            "\n",
            "Epoch 00457: val_loss did not improve from 0.79022\n",
            "Epoch 458/500\n",
            "234/234 [==============================] - 0s 1ms/step - loss: 0.4087 - mean_absolute_error: 0.4087 - val_loss: 0.8043 - val_mean_absolute_error: 0.8043\n",
            "\n",
            "Epoch 00458: val_loss did not improve from 0.79022\n",
            "Epoch 459/500\n",
            "234/234 [==============================] - 0s 1ms/step - loss: 0.4091 - mean_absolute_error: 0.4091 - val_loss: 0.8113 - val_mean_absolute_error: 0.8113\n",
            "\n",
            "Epoch 00459: val_loss did not improve from 0.79022\n",
            "Epoch 460/500\n",
            "234/234 [==============================] - 0s 1ms/step - loss: 0.4150 - mean_absolute_error: 0.4150 - val_loss: 0.7980 - val_mean_absolute_error: 0.7980\n",
            "\n",
            "Epoch 00460: val_loss did not improve from 0.79022\n",
            "Epoch 461/500\n",
            "234/234 [==============================] - 0s 1ms/step - loss: 0.4172 - mean_absolute_error: 0.4172 - val_loss: 0.8096 - val_mean_absolute_error: 0.8096\n",
            "\n",
            "Epoch 00461: val_loss did not improve from 0.79022\n",
            "Epoch 462/500\n",
            "234/234 [==============================] - 0s 1ms/step - loss: 0.4108 - mean_absolute_error: 0.4108 - val_loss: 0.7941 - val_mean_absolute_error: 0.7941\n",
            "\n",
            "Epoch 00462: val_loss did not improve from 0.79022\n",
            "Epoch 463/500\n",
            "234/234 [==============================] - 0s 1ms/step - loss: 0.3995 - mean_absolute_error: 0.3995 - val_loss: 0.8123 - val_mean_absolute_error: 0.8123\n",
            "\n",
            "Epoch 00463: val_loss did not improve from 0.79022\n",
            "Epoch 464/500\n",
            "234/234 [==============================] - 0s 1ms/step - loss: 0.4033 - mean_absolute_error: 0.4033 - val_loss: 0.7946 - val_mean_absolute_error: 0.7946\n",
            "\n",
            "Epoch 00464: val_loss did not improve from 0.79022\n",
            "Epoch 465/500\n",
            "234/234 [==============================] - 0s 1ms/step - loss: 0.4107 - mean_absolute_error: 0.4107 - val_loss: 0.8017 - val_mean_absolute_error: 0.8017\n",
            "\n",
            "Epoch 00465: val_loss did not improve from 0.79022\n",
            "Epoch 466/500\n",
            "234/234 [==============================] - 0s 1ms/step - loss: 0.4015 - mean_absolute_error: 0.4015 - val_loss: 0.8105 - val_mean_absolute_error: 0.8105\n",
            "\n",
            "Epoch 00466: val_loss did not improve from 0.79022\n",
            "Epoch 467/500\n",
            "234/234 [==============================] - 0s 1ms/step - loss: 0.3977 - mean_absolute_error: 0.3977 - val_loss: 0.7914 - val_mean_absolute_error: 0.7914\n",
            "\n",
            "Epoch 00467: val_loss did not improve from 0.79022\n",
            "Epoch 468/500\n",
            "234/234 [==============================] - 0s 1ms/step - loss: 0.4062 - mean_absolute_error: 0.4062 - val_loss: 0.8073 - val_mean_absolute_error: 0.8073\n",
            "\n",
            "Epoch 00468: val_loss did not improve from 0.79022\n",
            "Epoch 469/500\n",
            "234/234 [==============================] - 0s 1ms/step - loss: 0.3915 - mean_absolute_error: 0.3915 - val_loss: 0.7988 - val_mean_absolute_error: 0.7988\n",
            "\n",
            "Epoch 00469: val_loss did not improve from 0.79022\n",
            "Epoch 470/500\n",
            "234/234 [==============================] - 0s 1ms/step - loss: 0.3901 - mean_absolute_error: 0.3901 - val_loss: 0.8095 - val_mean_absolute_error: 0.8095\n",
            "\n",
            "Epoch 00470: val_loss did not improve from 0.79022\n",
            "Epoch 471/500\n",
            "234/234 [==============================] - 0s 1ms/step - loss: 0.3884 - mean_absolute_error: 0.3884 - val_loss: 0.8147 - val_mean_absolute_error: 0.8147\n",
            "\n",
            "Epoch 00471: val_loss did not improve from 0.79022\n",
            "Epoch 472/500\n",
            "234/234 [==============================] - 0s 1ms/step - loss: 0.4116 - mean_absolute_error: 0.4116 - val_loss: 0.8066 - val_mean_absolute_error: 0.8066\n",
            "\n",
            "Epoch 00472: val_loss did not improve from 0.79022\n",
            "Epoch 473/500\n",
            "234/234 [==============================] - 0s 1ms/step - loss: 0.3877 - mean_absolute_error: 0.3877 - val_loss: 0.7992 - val_mean_absolute_error: 0.7992\n",
            "\n",
            "Epoch 00473: val_loss did not improve from 0.79022\n",
            "Epoch 474/500\n",
            "234/234 [==============================] - 0s 1ms/step - loss: 0.4116 - mean_absolute_error: 0.4116 - val_loss: 0.8077 - val_mean_absolute_error: 0.8077\n",
            "\n",
            "Epoch 00474: val_loss did not improve from 0.79022\n",
            "Epoch 475/500\n",
            "234/234 [==============================] - 0s 1ms/step - loss: 0.3870 - mean_absolute_error: 0.3870 - val_loss: 0.8072 - val_mean_absolute_error: 0.8072\n",
            "\n",
            "Epoch 00475: val_loss did not improve from 0.79022\n",
            "Epoch 476/500\n",
            "234/234 [==============================] - 0s 1ms/step - loss: 0.3938 - mean_absolute_error: 0.3938 - val_loss: 0.8123 - val_mean_absolute_error: 0.8123\n",
            "\n",
            "Epoch 00476: val_loss did not improve from 0.79022\n",
            "Epoch 477/500\n",
            "234/234 [==============================] - 0s 1ms/step - loss: 0.3971 - mean_absolute_error: 0.3971 - val_loss: 0.7964 - val_mean_absolute_error: 0.7964\n",
            "\n",
            "Epoch 00477: val_loss did not improve from 0.79022\n",
            "Epoch 478/500\n",
            "234/234 [==============================] - 0s 1ms/step - loss: 0.3997 - mean_absolute_error: 0.3997 - val_loss: 0.8163 - val_mean_absolute_error: 0.8163\n",
            "\n",
            "Epoch 00478: val_loss did not improve from 0.79022\n",
            "Epoch 479/500\n",
            "234/234 [==============================] - 0s 1ms/step - loss: 0.4098 - mean_absolute_error: 0.4098 - val_loss: 0.8129 - val_mean_absolute_error: 0.8129\n",
            "\n",
            "Epoch 00479: val_loss did not improve from 0.79022\n",
            "Epoch 480/500\n",
            "234/234 [==============================] - 0s 1ms/step - loss: 0.3920 - mean_absolute_error: 0.3920 - val_loss: 0.8162 - val_mean_absolute_error: 0.8162\n",
            "\n",
            "Epoch 00480: val_loss did not improve from 0.79022\n",
            "Epoch 481/500\n",
            "234/234 [==============================] - 0s 1ms/step - loss: 0.4027 - mean_absolute_error: 0.4027 - val_loss: 0.8087 - val_mean_absolute_error: 0.8087\n",
            "\n",
            "Epoch 00481: val_loss did not improve from 0.79022\n",
            "Epoch 482/500\n",
            "234/234 [==============================] - 0s 1ms/step - loss: 0.4039 - mean_absolute_error: 0.4039 - val_loss: 0.8025 - val_mean_absolute_error: 0.8025\n",
            "\n",
            "Epoch 00482: val_loss did not improve from 0.79022\n",
            "Epoch 483/500\n",
            "234/234 [==============================] - 0s 1ms/step - loss: 0.4021 - mean_absolute_error: 0.4021 - val_loss: 0.8313 - val_mean_absolute_error: 0.8313\n",
            "\n",
            "Epoch 00483: val_loss did not improve from 0.79022\n",
            "Epoch 484/500\n",
            "234/234 [==============================] - 0s 1ms/step - loss: 0.4053 - mean_absolute_error: 0.4053 - val_loss: 0.8109 - val_mean_absolute_error: 0.8109\n",
            "\n",
            "Epoch 00484: val_loss did not improve from 0.79022\n",
            "Epoch 485/500\n",
            "234/234 [==============================] - 0s 1ms/step - loss: 0.3957 - mean_absolute_error: 0.3957 - val_loss: 0.8048 - val_mean_absolute_error: 0.8048\n",
            "\n",
            "Epoch 00485: val_loss did not improve from 0.79022\n",
            "Epoch 486/500\n",
            "234/234 [==============================] - 0s 1ms/step - loss: 0.4034 - mean_absolute_error: 0.4034 - val_loss: 0.8065 - val_mean_absolute_error: 0.8065\n",
            "\n",
            "Epoch 00486: val_loss did not improve from 0.79022\n",
            "Epoch 487/500\n",
            "234/234 [==============================] - 0s 1ms/step - loss: 0.3946 - mean_absolute_error: 0.3946 - val_loss: 0.8266 - val_mean_absolute_error: 0.8266\n",
            "\n",
            "Epoch 00487: val_loss did not improve from 0.79022\n",
            "Epoch 488/500\n",
            "234/234 [==============================] - 0s 1ms/step - loss: 0.3994 - mean_absolute_error: 0.3994 - val_loss: 0.7999 - val_mean_absolute_error: 0.7999\n",
            "\n",
            "Epoch 00488: val_loss did not improve from 0.79022\n",
            "Epoch 489/500\n",
            "234/234 [==============================] - 0s 1ms/step - loss: 0.3936 - mean_absolute_error: 0.3936 - val_loss: 0.8057 - val_mean_absolute_error: 0.8057\n",
            "\n",
            "Epoch 00489: val_loss did not improve from 0.79022\n",
            "Epoch 490/500\n",
            "234/234 [==============================] - 0s 1ms/step - loss: 0.3964 - mean_absolute_error: 0.3964 - val_loss: 0.8048 - val_mean_absolute_error: 0.8048\n",
            "\n",
            "Epoch 00490: val_loss did not improve from 0.79022\n",
            "Epoch 491/500\n",
            "234/234 [==============================] - 0s 1ms/step - loss: 0.3986 - mean_absolute_error: 0.3986 - val_loss: 0.8093 - val_mean_absolute_error: 0.8093\n",
            "\n",
            "Epoch 00491: val_loss did not improve from 0.79022\n",
            "Epoch 492/500\n",
            "234/234 [==============================] - 0s 1ms/step - loss: 0.3988 - mean_absolute_error: 0.3988 - val_loss: 0.8116 - val_mean_absolute_error: 0.8116\n",
            "\n",
            "Epoch 00492: val_loss did not improve from 0.79022\n",
            "Epoch 493/500\n",
            "234/234 [==============================] - 0s 1ms/step - loss: 0.3892 - mean_absolute_error: 0.3892 - val_loss: 0.8021 - val_mean_absolute_error: 0.8021\n",
            "\n",
            "Epoch 00493: val_loss did not improve from 0.79022\n",
            "Epoch 494/500\n",
            "234/234 [==============================] - 0s 1ms/step - loss: 0.3816 - mean_absolute_error: 0.3816 - val_loss: 0.8047 - val_mean_absolute_error: 0.8047\n",
            "\n",
            "Epoch 00494: val_loss did not improve from 0.79022\n",
            "Epoch 495/500\n",
            "234/234 [==============================] - 0s 1ms/step - loss: 0.4000 - mean_absolute_error: 0.4000 - val_loss: 0.8118 - val_mean_absolute_error: 0.8118\n",
            "\n",
            "Epoch 00495: val_loss did not improve from 0.79022\n",
            "Epoch 496/500\n",
            "234/234 [==============================] - 0s 1ms/step - loss: 0.3932 - mean_absolute_error: 0.3932 - val_loss: 0.8189 - val_mean_absolute_error: 0.8189\n",
            "\n",
            "Epoch 00496: val_loss did not improve from 0.79022\n",
            "Epoch 497/500\n",
            "234/234 [==============================] - 0s 1ms/step - loss: 0.3946 - mean_absolute_error: 0.3946 - val_loss: 0.8144 - val_mean_absolute_error: 0.8144\n",
            "\n",
            "Epoch 00497: val_loss did not improve from 0.79022\n",
            "Epoch 498/500\n",
            "234/234 [==============================] - 0s 1ms/step - loss: 0.3858 - mean_absolute_error: 0.3858 - val_loss: 0.8078 - val_mean_absolute_error: 0.8078\n",
            "\n",
            "Epoch 00498: val_loss did not improve from 0.79022\n",
            "Epoch 499/500\n",
            "234/234 [==============================] - 0s 1ms/step - loss: 0.3859 - mean_absolute_error: 0.3859 - val_loss: 0.8146 - val_mean_absolute_error: 0.8146\n",
            "\n",
            "Epoch 00499: val_loss did not improve from 0.79022\n",
            "Epoch 500/500\n",
            "234/234 [==============================] - 0s 1ms/step - loss: 0.3860 - mean_absolute_error: 0.3860 - val_loss: 0.7968 - val_mean_absolute_error: 0.7968\n",
            "\n",
            "Epoch 00500: val_loss did not improve from 0.79022\n"
          ]
        },
        {
          "output_type": "execute_result",
          "data": {
            "text/plain": [
              "<tensorflow.python.keras.callbacks.History at 0x2267db31e48>"
            ]
          },
          "metadata": {},
          "execution_count": 33
        }
      ],
      "source": [
        "NN_model.fit(X_train, Y_train, epochs=500, batch_size=32, validation_data=(X_test, Y_test), callbacks=callbacks_list)"
      ]
    },
    {
      "source": [
        "Selecting the best checkpoint file\n",
        "----------------------------------\n",
        "\n",
        "- Make sure to select the checkpoint file with the lowest `val_loss`. \n",
        "- The files are in the format `Weights-<epoch>--<val_loss>.hdf5`\n",
        "- Search for the Highest `epoch` or the lowest `val_loss`"
      ],
      "cell_type": "markdown",
      "metadata": {}
    },
    {
      "cell_type": "code",
      "execution_count": 35,
      "metadata": {},
      "outputs": [],
      "source": [
        "weights_file = 'model_checkpoints/Weights-293--0.79022.hdf5' # choose the best checkpoint \n",
        "NN_model.load_weights(weights_file) # load it\n",
        "NN_model.compile(loss='mean_absolute_error', optimizer='adam', metrics=['mean_absolute_error'])"
      ]
    },
    {
      "source": [
        "Predicting the test values of all the models\n",
        "--------------------------------------------"
      ],
      "cell_type": "markdown",
      "metadata": {}
    },
    {
      "cell_type": "code",
      "execution_count": 48,
      "metadata": {},
      "outputs": [],
      "source": [
        "NN_predictions = NN_model.predict(X_test)\n",
        "\n",
        "LG_pred = regressor.predict(X_test)\n",
        "\n",
        "XGB_pred = xgb_grid.predict(X_test)"
      ]
    },
    {
      "source": [
        "Explained Variance Score of all the three model's test data predictions\n",
        "-----------------------------------------------------------------------"
      ],
      "cell_type": "markdown",
      "metadata": {}
    },
    {
      "cell_type": "code",
      "execution_count": 50,
      "metadata": {},
      "outputs": [],
      "source": [
        "NN_score = explained_variance_score(Y_test, NN_predictions)\n",
        "\n",
        "XGB_Score = explained_variance_score(Y_test, xgb_pred)\n",
        "\n",
        "REG_Score = explained_variance_score(Y_test, Y_pred)"
      ]
    },
    {
      "cell_type": "code",
      "execution_count": 53,
      "metadata": {},
      "outputs": [
        {
          "output_type": "stream",
          "name": "stdout",
          "text": [
            "Linear Regression Model's Explained Variance Score is 38.45539171640904 %\n\nXGBoost Regressor with basic GridSearchCV's Explained Variance Score is 72.78709469274276 %\n\nNeural Network Model's Explained Variance Score is 74.46781819518024 %\n"
          ]
        }
      ],
      "source": [
        "print(\"Linear Regression Model's Explained Variance Score is {} %\\n\\nXGBoost Regressor with basic GridSearchCV's Explained Variance Score is {} %\\n\\nNeural Network Model's Explained Variance Score is {} %\".format(REG_Score * 100, XGB_Score * 100, NN_score * 100))"
      ]
    },
    {
      "cell_type": "code",
      "metadata": {
        "id": "IP1tAFVuH3fh",
        "outputId": "f19fc0fa-9bc1-475e-8a23-9b3d174fac23",
        "colab": {
          "base_uri": "https://localhost:8080/",
          "height": 123
        }
      },
      "source": [
        "# more information about MAE, MSE and RMSE \n",
        "\n",
        "print('Linear Regression Mean Absolute Error:', metrics.mean_absolute_error(Y_test, Y_pred))  \n",
        "print('Linear Regression Mean Squared Error:', metrics.mean_squared_error(Y_test, Y_pred))  \n",
        "print('Linear Regression Root Mean Squared Error:', np.sqrt(metrics.mean_squared_error(Y_test, Y_pred)))\n",
        "print('Mean:', Y_test.mean())\n",
        "print('Linear Regression Mean:', Y_pred.mean())"
      ],
      "execution_count": 42,
      "outputs": [
        {
          "output_type": "stream",
          "name": "stdout",
          "text": [
            "Linear Regression Mean Absolute Error: 1.3428191571705763\nLinear Regression Mean Squared Error: 3.4880747284419513\nLinear Regression Root Mean Squared Error: 1.8676388110236817\nMean: Solubility   -2.888173\ndtype: float64\nLinear Regression Mean: -2.8730009392804967\n"
          ]
        }
      ]
    },
    {
      "cell_type": "code",
      "metadata": {
        "id": "gqACzrl0NtfD",
        "outputId": "5192764c-15ad-461f-a3f2-930263dbd045",
        "colab": {
          "base_uri": "https://localhost:8080/",
          "height": 123
        }
      },
      "source": [
        "print('Linear Regression Mean Absolute Error:', metrics.mean_absolute_error(Y_test, xgb_pred))  \n",
        "print('Linear Regression Mean Squared Error:', metrics.mean_squared_error(Y_test, xgb_pred))  \n",
        "print('Linear Regression Root Mean Squared Error:', np.sqrt(metrics.mean_squared_error(Y_test, xgb_pred)))\n",
        "print('Mean:', Y_test.mean())\n",
        "print('XGBRegressor Mean:', xgb_pred.mean())"
      ],
      "execution_count": 43,
      "outputs": [
        {
          "output_type": "stream",
          "name": "stdout",
          "text": [
            "Linear Regression Mean Absolute Error: 0.8680589882769312\nLinear Regression Mean Squared Error: 1.5430253164798824\nLinear Regression Root Mean Squared Error: 1.2421857012861977\nMean: Solubility   -2.888173\ndtype: float64\nXGBRegressor Mean: -2.8595262\n"
          ]
        }
      ]
    },
    {
      "cell_type": "code",
      "metadata": {
        "id": "cBFZvb2VTs9K"
      },
      "source": [
        "yt_score = regressor.score(X_test, Y_test)\n",
        "xgbt_score = xgb_grid.score(X_test, Y_test)"
      ],
      "execution_count": 44,
      "outputs": []
    },
    {
      "cell_type": "code",
      "metadata": {
        "id": "-4mRV-ibT5mc",
        "outputId": "e7883128-1ad6-4aed-b6a6-df25fb8bcf3d",
        "colab": {
          "base_uri": "https://localhost:8080/",
          "height": 52
        }
      },
      "source": [
        "print(\"Test Score of Linear Regression is {} %\\nTest Score of XGBRegressor is {} %\".format(yt_score * 100, xgbt_score * 100))"
      ],
      "execution_count": 45,
      "outputs": [
        {
          "output_type": "stream",
          "name": "stdout",
          "text": [
            "Test Score of Linear Regression is 38.45132992367372 %\nTest Score of XGBRegressor is 72.772614259368 %\n"
          ]
        }
      ]
    },
    {
      "cell_type": "code",
      "metadata": {
        "id": "EARgB6tEH3fj"
      },
      "source": [],
      "execution_count": 129,
      "outputs": []
    }
  ]
}