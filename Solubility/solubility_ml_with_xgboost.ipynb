{
  "nbformat": 4,
  "nbformat_minor": 0,
  "metadata": {
    "kernelspec": {
      "display_name": "Python 3",
      "language": "python",
      "name": "python3"
    },
    "language_info": {
      "codemirror_mode": {
        "name": "ipython",
        "version": 3
      },
      "file_extension": ".py",
      "mimetype": "text/x-python",
      "name": "python",
      "nbconvert_exporter": "python",
      "pygments_lexer": "ipython3",
      "version": "3.7.6"
    },
    "colab": {
      "name": "solubility_ml.ipynb",
      "provenance": []
    }
  },
  "cells": [
    {
      "cell_type": "code",
      "metadata": {
        "id": "Gy934uCjIWLD",
        "outputId": "64fb9a96-20e1-455a-e0b2-70068bc26a75",
        "colab": {
          "base_uri": "https://localhost:8080/",
          "height": 34
        }
      },
      "source": [
        "from google.colab import drive\n",
        "drive.mount('/gdrive')"
      ],
      "execution_count": 113,
      "outputs": [
        {
          "output_type": "stream",
          "text": [
            "Drive already mounted at /gdrive; to attempt to forcibly remount, call drive.mount(\"/gdrive\", force_remount=True).\n"
          ],
          "name": "stdout"
        }
      ]
    },
    {
      "cell_type": "code",
      "metadata": {
        "id": "hJPZRkcfIWKt",
        "outputId": "69a11ff9-eb72-4717-c079-13083f6a84ca",
        "colab": {
          "base_uri": "https://localhost:8080/",
          "height": 34
        }
      },
      "source": [
        "with open('/gdrive/My Drive/foo.txt', 'w') as f:\n",
        "  f.write('Hello Google Drive!')\n",
        "!cat '/gdrive/My Drive/foo.txt'"
      ],
      "execution_count": 114,
      "outputs": [
        {
          "output_type": "stream",
          "text": [
            "Hello Google Drive!"
          ],
          "name": "stdout"
        }
      ]
    },
    {
      "cell_type": "code",
      "metadata": {
        "id": "tfIlUBxBH3fP"
      },
      "source": [
        "import pandas as pd  \n",
        "import numpy as np  \n",
        "import matplotlib.pyplot as plt  \n",
        "from sklearn.model_selection import train_test_split \n",
        "import xgboost as xgb\n",
        "import seaborn as sns\n",
        "import os\n",
        "import datetime\n",
        "from sklearn.model_selection import GridSearchCV\n",
        "from sklearn.linear_model import LinearRegression\n",
        "from sklearn import metrics\n",
        "%matplotlib inline\n",
        "\n",
        "# does not include dielectric constant and molar volume. \n",
        "# querying script to be updated when doable"
      ],
      "execution_count": 115,
      "outputs": []
    },
    {
      "cell_type": "code",
      "metadata": {
        "id": "k8VatWY3IPpR"
      },
      "source": [
        "os.chdir('/gdrive/My Drive/Datasets/')"
      ],
      "execution_count": 116,
      "outputs": []
    },
    {
      "cell_type": "code",
      "metadata": {
        "id": "TFlfXC-jH3fS"
      },
      "source": [
        "# read data frame overall\n",
        "df = pd.read_csv(\"aqsol.csv\")"
      ],
      "execution_count": 117,
      "outputs": []
    },
    {
      "cell_type": "code",
      "metadata": {
        "id": "7w5r3PIFH3fU",
        "outputId": "f4fe618f-e8ce-4458-a249-e85d8dce249c",
        "colab": {
          "base_uri": "https://localhost:8080/",
          "height": 301
        }
      },
      "source": [
        "# df.columns\n",
        "df.head()"
      ],
      "execution_count": 118,
      "outputs": [
        {
          "output_type": "execute_result",
          "data": {
            "text/html": [
              "<div>\n",
              "<style scoped>\n",
              "    .dataframe tbody tr th:only-of-type {\n",
              "        vertical-align: middle;\n",
              "    }\n",
              "\n",
              "    .dataframe tbody tr th {\n",
              "        vertical-align: top;\n",
              "    }\n",
              "\n",
              "    .dataframe thead th {\n",
              "        text-align: right;\n",
              "    }\n",
              "</style>\n",
              "<table border=\"1\" class=\"dataframe\">\n",
              "  <thead>\n",
              "    <tr style=\"text-align: right;\">\n",
              "      <th></th>\n",
              "      <th>ID</th>\n",
              "      <th>Name</th>\n",
              "      <th>InChI</th>\n",
              "      <th>InChIKey</th>\n",
              "      <th>SMILES</th>\n",
              "      <th>Solubility</th>\n",
              "      <th>SD</th>\n",
              "      <th>Ocurrences</th>\n",
              "      <th>Group</th>\n",
              "      <th>MolWt</th>\n",
              "      <th>MolLogP</th>\n",
              "      <th>MolMR</th>\n",
              "      <th>HeavyAtomCount</th>\n",
              "      <th>NumHAcceptors</th>\n",
              "      <th>NumHDonors</th>\n",
              "      <th>NumHeteroatoms</th>\n",
              "      <th>NumRotatableBonds</th>\n",
              "      <th>NumValenceElectrons</th>\n",
              "      <th>NumAromaticRings</th>\n",
              "      <th>NumSaturatedRings</th>\n",
              "      <th>NumAliphaticRings</th>\n",
              "      <th>RingCount</th>\n",
              "      <th>TPSA</th>\n",
              "      <th>LabuteASA</th>\n",
              "      <th>BalabanJ</th>\n",
              "      <th>BertzCT</th>\n",
              "    </tr>\n",
              "  </thead>\n",
              "  <tbody>\n",
              "    <tr>\n",
              "      <th>0</th>\n",
              "      <td>A-3</td>\n",
              "      <td>N,N,N-trimethyloctadecan-1-aminium bromide</td>\n",
              "      <td>InChI=1S/C21H46N.BrH/c1-5-6-7-8-9-10-11-12-13-...</td>\n",
              "      <td>SZEMGTQCPRNXEG-UHFFFAOYSA-M</td>\n",
              "      <td>[Br-].CCCCCCCCCCCCCCCCCC[N+](C)(C)C</td>\n",
              "      <td>-3.616127</td>\n",
              "      <td>0.0</td>\n",
              "      <td>1</td>\n",
              "      <td>G1</td>\n",
              "      <td>392.510</td>\n",
              "      <td>3.9581</td>\n",
              "      <td>102.4454</td>\n",
              "      <td>23.0</td>\n",
              "      <td>0.0</td>\n",
              "      <td>0.0</td>\n",
              "      <td>2.0</td>\n",
              "      <td>17.0</td>\n",
              "      <td>142.0</td>\n",
              "      <td>0.0</td>\n",
              "      <td>0.0</td>\n",
              "      <td>0.0</td>\n",
              "      <td>0.0</td>\n",
              "      <td>0.00</td>\n",
              "      <td>158.520601</td>\n",
              "      <td>0.000000e+00</td>\n",
              "      <td>210.377334</td>\n",
              "    </tr>\n",
              "    <tr>\n",
              "      <th>1</th>\n",
              "      <td>A-4</td>\n",
              "      <td>Benzo[cd]indol-2(1H)-one</td>\n",
              "      <td>InChI=1S/C11H7NO/c13-11-8-5-1-3-7-4-2-6-9(12-1...</td>\n",
              "      <td>GPYLCFQEKPUWLD-UHFFFAOYSA-N</td>\n",
              "      <td>O=C1Nc2cccc3cccc1c23</td>\n",
              "      <td>-3.254767</td>\n",
              "      <td>0.0</td>\n",
              "      <td>1</td>\n",
              "      <td>G1</td>\n",
              "      <td>169.183</td>\n",
              "      <td>2.4055</td>\n",
              "      <td>51.9012</td>\n",
              "      <td>13.0</td>\n",
              "      <td>1.0</td>\n",
              "      <td>1.0</td>\n",
              "      <td>2.0</td>\n",
              "      <td>0.0</td>\n",
              "      <td>62.0</td>\n",
              "      <td>2.0</td>\n",
              "      <td>0.0</td>\n",
              "      <td>1.0</td>\n",
              "      <td>3.0</td>\n",
              "      <td>29.10</td>\n",
              "      <td>75.183563</td>\n",
              "      <td>2.582996e+00</td>\n",
              "      <td>511.229248</td>\n",
              "    </tr>\n",
              "    <tr>\n",
              "      <th>2</th>\n",
              "      <td>A-5</td>\n",
              "      <td>4-chlorobenzaldehyde</td>\n",
              "      <td>InChI=1S/C7H5ClO/c8-7-3-1-6(5-9)2-4-7/h1-5H</td>\n",
              "      <td>AVPYQKSLYISFPO-UHFFFAOYSA-N</td>\n",
              "      <td>Clc1ccc(C=O)cc1</td>\n",
              "      <td>-2.177078</td>\n",
              "      <td>0.0</td>\n",
              "      <td>1</td>\n",
              "      <td>G1</td>\n",
              "      <td>140.569</td>\n",
              "      <td>2.1525</td>\n",
              "      <td>36.8395</td>\n",
              "      <td>9.0</td>\n",
              "      <td>1.0</td>\n",
              "      <td>0.0</td>\n",
              "      <td>2.0</td>\n",
              "      <td>1.0</td>\n",
              "      <td>46.0</td>\n",
              "      <td>1.0</td>\n",
              "      <td>0.0</td>\n",
              "      <td>0.0</td>\n",
              "      <td>1.0</td>\n",
              "      <td>17.07</td>\n",
              "      <td>58.261134</td>\n",
              "      <td>3.009782e+00</td>\n",
              "      <td>202.661065</td>\n",
              "    </tr>\n",
              "    <tr>\n",
              "      <th>3</th>\n",
              "      <td>A-8</td>\n",
              "      <td>zinc bis[2-hydroxy-3,5-bis(1-phenylethyl)benzo...</td>\n",
              "      <td>InChI=1S/2C23H22O3.Zn/c2*1-15(17-9-5-3-6-10-17...</td>\n",
              "      <td>XTUPUYCJWKHGSW-UHFFFAOYSA-L</td>\n",
              "      <td>[Zn++].CC(c1ccccc1)c2cc(C(C)c3ccccc3)c(O)c(c2)...</td>\n",
              "      <td>-3.924409</td>\n",
              "      <td>0.0</td>\n",
              "      <td>1</td>\n",
              "      <td>G1</td>\n",
              "      <td>756.226</td>\n",
              "      <td>8.1161</td>\n",
              "      <td>200.7106</td>\n",
              "      <td>53.0</td>\n",
              "      <td>6.0</td>\n",
              "      <td>2.0</td>\n",
              "      <td>7.0</td>\n",
              "      <td>10.0</td>\n",
              "      <td>264.0</td>\n",
              "      <td>6.0</td>\n",
              "      <td>0.0</td>\n",
              "      <td>0.0</td>\n",
              "      <td>6.0</td>\n",
              "      <td>120.72</td>\n",
              "      <td>323.755434</td>\n",
              "      <td>2.322963e-07</td>\n",
              "      <td>1964.648666</td>\n",
              "    </tr>\n",
              "    <tr>\n",
              "      <th>4</th>\n",
              "      <td>A-9</td>\n",
              "      <td>4-({4-[bis(oxiran-2-ylmethyl)amino]phenyl}meth...</td>\n",
              "      <td>InChI=1S/C25H30N2O4/c1-5-20(26(10-22-14-28-22)...</td>\n",
              "      <td>FAUAZXVRLVIARB-UHFFFAOYSA-N</td>\n",
              "      <td>C1OC1CN(CC2CO2)c3ccc(Cc4ccc(cc4)N(CC5CO5)CC6CO...</td>\n",
              "      <td>-4.662065</td>\n",
              "      <td>0.0</td>\n",
              "      <td>1</td>\n",
              "      <td>G1</td>\n",
              "      <td>422.525</td>\n",
              "      <td>2.4854</td>\n",
              "      <td>119.0760</td>\n",
              "      <td>31.0</td>\n",
              "      <td>6.0</td>\n",
              "      <td>0.0</td>\n",
              "      <td>6.0</td>\n",
              "      <td>12.0</td>\n",
              "      <td>164.0</td>\n",
              "      <td>2.0</td>\n",
              "      <td>4.0</td>\n",
              "      <td>4.0</td>\n",
              "      <td>6.0</td>\n",
              "      <td>56.60</td>\n",
              "      <td>183.183268</td>\n",
              "      <td>1.084427e+00</td>\n",
              "      <td>769.899934</td>\n",
              "    </tr>\n",
              "  </tbody>\n",
              "</table>\n",
              "</div>"
            ],
            "text/plain": [
              "    ID  ...      BertzCT\n",
              "0  A-3  ...   210.377334\n",
              "1  A-4  ...   511.229248\n",
              "2  A-5  ...   202.661065\n",
              "3  A-8  ...  1964.648666\n",
              "4  A-9  ...   769.899934\n",
              "\n",
              "[5 rows x 26 columns]"
            ]
          },
          "metadata": {
            "tags": []
          },
          "execution_count": 118
        }
      ]
    },
    {
      "cell_type": "code",
      "metadata": {
        "id": "UyZRWimSH3fW"
      },
      "source": [
        "# X - NumHAcceptors, NumHDonors, NumAromaticRings, NumSaturatedRings, NumAliphaticRings, MolMR\n",
        "# Y - Solubility \n",
        "# Merged dataframe to provide pair plot \n",
        "\n",
        "X = df.loc[:, ['MolMR','NumHAcceptors', 'NumHDonors', 'NumAromaticRings', 'NumSaturatedRings', 'NumAliphaticRings']]\n",
        "Y = df.loc[:, ['Solubility']]\n",
        "merge = df.loc[:, ['MolMR','NumHAcceptors', 'NumHDonors', 'NumAromaticRings', 'NumSaturatedRings', 'NumAliphaticRings', 'Solubility']]"
      ],
      "execution_count": 119,
      "outputs": []
    },
    {
      "cell_type": "code",
      "metadata": {
        "id": "Bd9W9aKCH3fY"
      },
      "source": [
        "# Perform pairwise plots to visualize data\n",
        "#plot = sns.pairplot(merge)"
      ],
      "execution_count": 120,
      "outputs": []
    },
    {
      "cell_type": "code",
      "metadata": {
        "id": "u-ubXleuH3fb",
        "outputId": "855d3b09-c5ef-4e26-817f-66d10f8a4904",
        "colab": {
          "base_uri": "https://localhost:8080/",
          "height": 34
        }
      },
      "source": [
        "# Performing linear regression with defined X and Y parameters\n",
        "# not a very good R^2 of 0.39282.\n",
        "\n",
        "X_train, X_test, Y_train, Y_test = train_test_split(X, Y, test_size = 0.2, random_state = 0)\n",
        "regressor = LinearRegression()\n",
        "\n",
        "reg = regressor.fit(X_train, Y_train)\n",
        "\n",
        "reg.score (X_train, Y_train)"
      ],
      "execution_count": 121,
      "outputs": [
        {
          "output_type": "execute_result",
          "data": {
            "text/plain": [
              "0.39282680008336895"
            ]
          },
          "metadata": {
            "tags": []
          },
          "execution_count": 121
        }
      ]
    },
    {
      "cell_type": "code",
      "metadata": {
        "id": "ub21PVg3JVLq",
        "outputId": "ae5fbc71-8789-4f22-cbee-8adf4bf83e0b",
        "colab": {
          "base_uri": "https://localhost:8080/",
          "height": 123
        }
      },
      "source": [
        "xgb = xgb.XGBRegressor()\n",
        "\n",
        "parameters = {'nthread':[4],\n",
        "              'objective':['reg:linear'],\n",
        "              'learning_rate': [0.005, 0.01, 0.03, 0.05, .07],\n",
        "              'max_depth': [5, 6, 7],\n",
        "              'min_child_weight': [3, 4, 5],\n",
        "              'silent': [1],\n",
        "              'subsample': [0.7],\n",
        "              'colsample_bytree': [0.7, 0.9, 1.0],\n",
        "              'n_estimators': [500]}\n",
        "\n",
        "xgb_grid = GridSearchCV(xgb,\n",
        "                        parameters,\n",
        "                        cv = 2,\n",
        "                        n_jobs = -1,\n",
        "                        verbose=True)\n",
        "xgb_grid.fit(X_train, Y_train)\n",
        "\n",
        "print('XGBoost Regressor Score is {}'.format(xgb_grid.score(X_train, Y_train)))"
      ],
      "execution_count": 122,
      "outputs": [
        {
          "output_type": "stream",
          "text": [
            "Fitting 2 folds for each of 135 candidates, totalling 270 fits\n"
          ],
          "name": "stdout"
        },
        {
          "output_type": "stream",
          "text": [
            "[Parallel(n_jobs=-1)]: Using backend LokyBackend with 2 concurrent workers.\n",
            "[Parallel(n_jobs=-1)]: Done  46 tasks      | elapsed:   56.5s\n",
            "[Parallel(n_jobs=-1)]: Done 196 tasks      | elapsed:  4.1min\n",
            "[Parallel(n_jobs=-1)]: Done 270 out of 270 | elapsed:  5.8min finished\n"
          ],
          "name": "stderr"
        },
        {
          "output_type": "stream",
          "text": [
            "XGBoost Regressor Score is 0.7295869757585601\n"
          ],
          "name": "stdout"
        }
      ]
    },
    {
      "cell_type": "code",
      "metadata": {
        "id": "H_uEuvy7OpN4",
        "outputId": "754c614e-f49a-4aac-951c-b95288eee3c9",
        "colab": {
          "base_uri": "https://localhost:8080/",
          "height": 176
        }
      },
      "source": [
        "xgb_grid.best_params_"
      ],
      "execution_count": 123,
      "outputs": [
        {
          "output_type": "execute_result",
          "data": {
            "text/plain": [
              "{'colsample_bytree': 0.9,\n",
              " 'learning_rate': 0.01,\n",
              " 'max_depth': 7,\n",
              " 'min_child_weight': 3,\n",
              " 'n_estimators': 500,\n",
              " 'nthread': 4,\n",
              " 'objective': 'reg:linear',\n",
              " 'silent': 1,\n",
              " 'subsample': 0.7}"
            ]
          },
          "metadata": {
            "tags": []
          },
          "execution_count": 123
        }
      ]
    },
    {
      "cell_type": "code",
      "metadata": {
        "id": "nmF9yjgtJrQi",
        "outputId": "caa46f2e-0c46-47ad-94a3-af67e88dca8a",
        "colab": {
          "base_uri": "https://localhost:8080/",
          "height": 87
        }
      },
      "source": [
        "print('Linear Regression R2 Score is {} %\\nXGBoost Regressor with basic GridSearchCV R2 Score is {} %'.format(reg.score(X_train, Y_train) * 100, xgb_grid.score(X_train, Y_train) * 100))\n",
        "print('')\n",
        "print('As you can see, this is a big leap in accuracy.')"
      ],
      "execution_count": 124,
      "outputs": [
        {
          "output_type": "stream",
          "text": [
            "Linear Regression R2 Score is 39.2826800083369 %\n",
            "XGBoost Regressor with basic GridSearchCV R2 Score is 72.95869757585601 %\n",
            "\n",
            "As you can see, this is a big leap in accuracy.\n"
          ],
          "name": "stdout"
        }
      ]
    },
    {
      "cell_type": "code",
      "metadata": {
        "id": "uUQuGVKzH3fe",
        "outputId": "97a638bc-2bfa-4045-9432-22445c200ea0",
        "colab": {
          "base_uri": "https://localhost:8080/",
          "height": 227
        }
      },
      "source": [
        "# showing the predicted solubility coefficients of the purely linear model \n",
        "\n",
        "temp = pd.DataFrame(regressor.coef_)\n",
        "coeff_df = temp.T\n",
        "coeff_df.index = ['MolMR','NumHAcceptors', 'NumHDonors', 'NumAromaticRings', 'NumSaturatedRings', 'NumAliphaticRings']\n",
        "coeff_df.columns = ['Predicted Solubility']\n",
        "coeff_df"
      ],
      "execution_count": 125,
      "outputs": [
        {
          "output_type": "execute_result",
          "data": {
            "text/html": [
              "<div>\n",
              "<style scoped>\n",
              "    .dataframe tbody tr th:only-of-type {\n",
              "        vertical-align: middle;\n",
              "    }\n",
              "\n",
              "    .dataframe tbody tr th {\n",
              "        vertical-align: top;\n",
              "    }\n",
              "\n",
              "    .dataframe thead th {\n",
              "        text-align: right;\n",
              "    }\n",
              "</style>\n",
              "<table border=\"1\" class=\"dataframe\">\n",
              "  <thead>\n",
              "    <tr style=\"text-align: right;\">\n",
              "      <th></th>\n",
              "      <th>Predicted Solubility</th>\n",
              "    </tr>\n",
              "  </thead>\n",
              "  <tbody>\n",
              "    <tr>\n",
              "      <th>MolMR</th>\n",
              "      <td>-0.030925</td>\n",
              "    </tr>\n",
              "    <tr>\n",
              "      <th>NumHAcceptors</th>\n",
              "      <td>0.267275</td>\n",
              "    </tr>\n",
              "    <tr>\n",
              "      <th>NumHDonors</th>\n",
              "      <td>0.321167</td>\n",
              "    </tr>\n",
              "    <tr>\n",
              "      <th>NumAromaticRings</th>\n",
              "      <td>-0.370889</td>\n",
              "    </tr>\n",
              "    <tr>\n",
              "      <th>NumSaturatedRings</th>\n",
              "      <td>-0.072357</td>\n",
              "    </tr>\n",
              "    <tr>\n",
              "      <th>NumAliphaticRings</th>\n",
              "      <td>-0.077015</td>\n",
              "    </tr>\n",
              "  </tbody>\n",
              "</table>\n",
              "</div>"
            ],
            "text/plain": [
              "                   Predicted Solubility\n",
              "MolMR                         -0.030925\n",
              "NumHAcceptors                  0.267275\n",
              "NumHDonors                     0.321167\n",
              "NumAromaticRings              -0.370889\n",
              "NumSaturatedRings             -0.072357\n",
              "NumAliphaticRings             -0.077015"
            ]
          },
          "metadata": {
            "tags": []
          },
          "execution_count": 125
        }
      ]
    },
    {
      "cell_type": "code",
      "metadata": {
        "id": "vOjEfzNYH3fg"
      },
      "source": [
        "# evaluating fit for training data\n",
        "\n",
        "Y_pred = regressor.predict(X_train)\n",
        "\n",
        "xgb_pred = xgb_grid.predict(X_train)"
      ],
      "execution_count": 126,
      "outputs": []
    },
    {
      "cell_type": "code",
      "metadata": {
        "id": "IP1tAFVuH3fh",
        "outputId": "f19fc0fa-9bc1-475e-8a23-9b3d174fac23",
        "colab": {
          "base_uri": "https://localhost:8080/",
          "height": 123
        }
      },
      "source": [
        "# more information about MAE, MSE and RMSE \n",
        "\n",
        "print('Linear Regression Mean Absolute Error:', metrics.mean_absolute_error(Y_train, Y_pred))  \n",
        "print('Linear Regression Mean Squared Error:', metrics.mean_squared_error(Y_train, Y_pred))  \n",
        "print('Linear Regression Root Mean Squared Error:', np.sqrt(metrics.mean_squared_error(Y_train, Y_pred)))\n",
        "print('Mean:', Y_train.mean())\n",
        "print('Linear Regression Mean:', Y_pred.mean())"
      ],
      "execution_count": 127,
      "outputs": [
        {
          "output_type": "stream",
          "text": [
            "Linear Regression Mean Absolute Error: 1.386096546511378\n",
            "Linear Regression Mean Squared Error: 3.4187900469999817\n",
            "Linear Regression Root Mean Squared Error: 1.848997038126341\n",
            "Mean: Solubility   -2.893181\n",
            "dtype: float64\n",
            "Linear Regression Mean: -2.8931812180989978\n"
          ],
          "name": "stdout"
        }
      ]
    },
    {
      "cell_type": "code",
      "metadata": {
        "id": "gqACzrl0NtfD",
        "outputId": "5192764c-15ad-461f-a3f2-930263dbd045",
        "colab": {
          "base_uri": "https://localhost:8080/",
          "height": 123
        }
      },
      "source": [
        "print('Linear Regression Mean Absolute Error:', metrics.mean_absolute_error(Y_train, xgb_pred))  \n",
        "print('Linear Regression Mean Squared Error:', metrics.mean_squared_error(Y_train, xgb_pred))  \n",
        "print('Linear Regression Root Mean Squared Error:', np.sqrt(metrics.mean_squared_error(Y_train, xgb_pred)))\n",
        "print('Mean:', Y_train.mean())\n",
        "print('XGBRegressor Mean:', xgb_pred.mean())"
      ],
      "execution_count": 128,
      "outputs": [
        {
          "output_type": "stream",
          "text": [
            "Linear Regression Mean Absolute Error: 0.895892912212555\n",
            "Linear Regression Mean Squared Error: 1.5226056683376956\n",
            "Linear Regression Root Mean Squared Error: 1.2339390861536463\n",
            "Mean: Solubility   -2.893181\n",
            "dtype: float64\n",
            "XGBRegressor Mean: -2.8681843\n"
          ],
          "name": "stdout"
        }
      ]
    },
    {
      "cell_type": "code",
      "metadata": {
        "id": "Yd49rhhSS2Ob"
      },
      "source": [
        "yt_pred = regressor.predict(X_test)\n",
        "xgbt_pred = xgb_grid.predict(X_test)"
      ],
      "execution_count": 131,
      "outputs": []
    },
    {
      "cell_type": "code",
      "metadata": {
        "id": "cBFZvb2VTs9K"
      },
      "source": [
        "yt_score = regressor.score(X_test, Y_test)\n",
        "xgbt_score = xgb_grid.score(X_test, Y_test)"
      ],
      "execution_count": 133,
      "outputs": []
    },
    {
      "cell_type": "code",
      "metadata": {
        "id": "-4mRV-ibT5mc",
        "outputId": "e7883128-1ad6-4aed-b6a6-df25fb8bcf3d",
        "colab": {
          "base_uri": "https://localhost:8080/",
          "height": 52
        }
      },
      "source": [
        "print(\"Test Score of Linear Regression is {} %\\nTest Score of XGBRegressor is {} %\".format(yt_score * 100, xgbt_score * 100))"
      ],
      "execution_count": 136,
      "outputs": [
        {
          "output_type": "stream",
          "text": [
            "Test Score of Linear Regression is 31.024951272218438 %\n",
            "Test Score of XGBRegressor is 61.600429589616134 %\n"
          ],
          "name": "stdout"
        }
      ]
    },
    {
      "cell_type": "code",
      "metadata": {
        "id": "EARgB6tEH3fj"
      },
      "source": [
        "# this isn't really an overfitting problem. \n",
        "# It's more related to the lack of dielectric constant + the other variable"
      ],
      "execution_count": 129,
      "outputs": []
    }
  ]
}